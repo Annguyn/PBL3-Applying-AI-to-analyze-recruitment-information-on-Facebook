{
 "cells": [
  {
   "cell_type": "code",
   "execution_count": 11,
   "id": "9322c31c",
   "metadata": {},
   "outputs": [],
   "source": [
    "import re"
   ]
  },
  {
   "cell_type": "code",
   "execution_count": 12,
   "id": "382997c8",
   "metadata": {},
   "outputs": [],
   "source": [
    "recruitment1 = ''' [VNG Corp] Trở thành Lập trình Viên tại VNG với Mentors hướng dẫn 1:1 - Tại sao không? \n",
    "VNG (Tiền thân Vinagame), là chủ sở hữu các sản phẩm như Zalo, ZingMP3, Khu vườn trên mây (Cổng ZingPlay),...\n",
    "Hiện tại, VNG đang tổ chức Đợt tuyển lớn & Đào tạo Fresher trở thành Lập trình viên chuyên nghiệp trong tương lai. Vậy chương trình GDF mùa thứ 17 của VNG có những điểm đặc biệt nào?\n",
    "Lộ trình đào tạo: Trở thành Nhân viên chính thức sau 2-3 tháng\n",
    "Mức lương: 14 Triệu - 16 Triệu/tháng\n",
    "Môi trường làm việc: Trẻ trung, năng động và đậm chất Gen Z\n",
    "Có Mentors theo sát và hướng dẫn trong suốt quá trình training & làm việc: Đây chính là một trong số những điểm mà VNG “tự hào” nhất với chương trình. Hiểu được tâm lý muốn học hỏi và phát triển từ các bạn, đội ngũ Mentors “giàu kinh nghiệm” từ VNG luôn sẵn sàng xuất trận để hướng dẫn, chỉ bảo các bạn từ những ngày đầu tiên cho đến ngày tốt nghiệp 😉\n",
    "🔥 Link đăng ký: Dưới comment\n",
    "🌟 Ngoài những đặc quyền trên, làm Lập trình viên tại VNG còn nhận được gì nữa nhỉ?\n",
    "Trải nghiệm khóa Đào tạo “thiết kế riêng” về Kỹ năng mềm & chuyên môn với Chi phí 0đ\n",
    "Đồ ăn, đồ uống hàng ngày: Café, Nước ép, Sữa chua... hoàn toàn miễn phí\n",
    "Hoạt động giải trí trong giờ Bi-da, Bi-lắc, Bóng bàn, Karaoke, … mỗi ngày.\n",
    "Nhận dấu Xác nhận học phần thực tập từ VNG\n",
    "Cơ hội trở thành Nhân viên chính thức cùng Macbook Pro, Thẻ tập Gym,...\n",
    "🌟 Điều kiện ứng tuyển là gì?\n",
    "Sinh viên Khoa CNTT, tốt nghiệp 2022 & 2023 tại các trường Đại học chính quy trên địa bàn Hà Nội như HUST, UET,...\n",
    "Nắm vững kiến thức Cấu trúc dữ liệu & Giải Thuật, Lập trình hướng đối tượng\n",
    "Thành thạo ít nhất một ngôn ngữ lập trình.\n",
    "🔥 Link đăng ký: Dưới comment\n",
    "'''"
   ]
  },
  {
   "cell_type": "code",
   "execution_count": 13,
   "id": "d5b3a446",
   "metadata": {},
   "outputs": [],
   "source": [
    "company_name =' \\[(?!HN\\]|HCM\\])(.*?)\\]|.*CÔNG TY TNHH.*|(.*?)(?=TUYỂN DỤNG|tuyển dụng|recruit)'"
   ]
  },
  {
   "cell_type": "code",
   "execution_count": 14,
   "id": "e22551fb",
   "metadata": {},
   "outputs": [
    {
     "data": {
      "text/plain": [
       "[('VNG Corp', '')]"
      ]
     },
     "execution_count": 14,
     "metadata": {},
     "output_type": "execute_result"
    }
   ],
   "source": [
    "matches = re.findall(company_name , recruitment1)\n",
    "matches"
   ]
  },
  {
   "cell_type": "code",
   "execution_count": 22,
   "id": "013a1f5b",
   "metadata": {},
   "outputs": [],
   "source": [
    "salary =  r'Mức lương:\\s*(.*)'"
   ]
  },
  {
   "cell_type": "code",
   "execution_count": 23,
   "id": "e40826b4",
   "metadata": {},
   "outputs": [
    {
     "data": {
      "text/plain": [
       "['14 Triệu - 16 Triệu/tháng']"
      ]
     },
     "execution_count": 23,
     "metadata": {},
     "output_type": "execute_result"
    }
   ],
   "source": [
    "matches = re.findall(salary, recruitment1)\n",
    "matches"
   ]
  },
  {
   "cell_type": "code",
   "execution_count": null,
   "id": "8f3a8a83",
   "metadata": {},
   "outputs": [],
   "source": [
    "position = 'F'"
   ]
  }
 ],
 "metadata": {
  "kernelspec": {
   "display_name": "Python 3 (ipykernel)",
   "language": "python",
   "name": "python3"
  },
  "language_info": {
   "codemirror_mode": {
    "name": "ipython",
    "version": 3
   },
   "file_extension": ".py",
   "mimetype": "text/x-python",
   "name": "python",
   "nbconvert_exporter": "python",
   "pygments_lexer": "ipython3",
   "version": "3.11.5"
  }
 },
 "nbformat": 4,
 "nbformat_minor": 5
}
