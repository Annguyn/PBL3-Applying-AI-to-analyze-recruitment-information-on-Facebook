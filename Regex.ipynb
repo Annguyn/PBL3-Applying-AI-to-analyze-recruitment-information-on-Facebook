{
 "cells": [
  {
   "cell_type": "code",
   "execution_count": 1,
   "id": "9322c31c",
   "metadata": {},
   "outputs": [],
   "source": [
    "import re\n",
    "import pandas as pd"
   ]
  },
  {
   "cell_type": "code",
   "execution_count": 2,
   "id": "382997c8",
   "metadata": {},
   "outputs": [
    {
     "data": {
      "text/html": [
       "<div>\n",
       "<style scoped>\n",
       "    .dataframe tbody tr th:only-of-type {\n",
       "        vertical-align: middle;\n",
       "    }\n",
       "\n",
       "    .dataframe tbody tr th {\n",
       "        vertical-align: top;\n",
       "    }\n",
       "\n",
       "    .dataframe thead th {\n",
       "        text-align: right;\n",
       "    }\n",
       "</style>\n",
       "<table border=\"1\" class=\"dataframe\">\n",
       "  <thead>\n",
       "    <tr style=\"text-align: right;\">\n",
       "      <th></th>\n",
       "      <th>post_id</th>\n",
       "      <th>content</th>\n",
       "      <th>images</th>\n",
       "    </tr>\n",
       "  </thead>\n",
       "  <tbody>\n",
       "    <tr>\n",
       "      <th>0</th>\n",
       "      <td>2860452447455049</td>\n",
       "      <td>ĐÀ NẴNG OPEN JOB PHP/ JAVA/ TESTER/ REACTJS 🤤🤤...</td>\n",
       "      <td>[]</td>\n",
       "    </tr>\n",
       "    <tr>\n",
       "      <th>1</th>\n",
       "      <td>2860258800807747</td>\n",
       "      <td>Xin chào cả nhà ạ. Green Technology.STC mở rộn...</td>\n",
       "      <td>[]</td>\n",
       "    </tr>\n",
       "    <tr>\n",
       "      <th>2</th>\n",
       "      <td>2860363647463929</td>\n",
       "      <td>🔥 EST ROUGE ĐÀ NẴNG TUYỂN DỤNG LEVEL TỪ FRESHE...</td>\n",
       "      <td>[]</td>\n",
       "    </tr>\n",
       "    <tr>\n",
       "      <th>3</th>\n",
       "      <td>2857712567729037</td>\n",
       "      <td>🔥🔥🔥 VỚI MỤC TIÊU R500, ĐẠT 500 NHÂN SỰ CUỐI NĂ...</td>\n",
       "      <td>[]</td>\n",
       "    </tr>\n",
       "    <tr>\n",
       "      <th>4</th>\n",
       "      <td>2622792804554349</td>\n",
       "      <td>🔥🔥🔥 [Đà Nẵng] Khởi động chương trình đào tạo v...</td>\n",
       "      <td>[]</td>\n",
       "    </tr>\n",
       "  </tbody>\n",
       "</table>\n",
       "</div>"
      ],
      "text/plain": [
       "            post_id                                            content images\n",
       "0  2860452447455049  ĐÀ NẴNG OPEN JOB PHP/ JAVA/ TESTER/ REACTJS 🤤🤤...     []\n",
       "1  2860258800807747  Xin chào cả nhà ạ. Green Technology.STC mở rộn...     []\n",
       "2  2860363647463929  🔥 EST ROUGE ĐÀ NẴNG TUYỂN DỤNG LEVEL TỪ FRESHE...     []\n",
       "3  2857712567729037  🔥🔥🔥 VỚI MỤC TIÊU R500, ĐẠT 500 NHÂN SỰ CUỐI NĂ...     []\n",
       "4  2622792804554349  🔥🔥🔥 [Đà Nẵng] Khởi động chương trình đào tạo v...     []"
      ]
     },
     "execution_count": 2,
     "metadata": {},
     "output_type": "execute_result"
    }
   ],
   "source": [
    "tuyendung = pd.read_csv(\"output1.csv\")\n",
    "tuyendung.head()"
   ]
  },
  {
   "cell_type": "code",
   "execution_count": 13,
   "id": "d5b3a446",
   "metadata": {},
   "outputs": [],
   "source": [
    "company_name =' \\[(?!HN\\]|HCM\\])(.*?)\\]|.*CÔNG TY TNHH.*|(.*?)(?=TUYỂN DỤNG|tuyển dụng|recruit)'"
   ]
  },
  {
   "cell_type": "code",
   "execution_count": 14,
   "id": "e22551fb",
   "metadata": {},
   "outputs": [
    {
     "data": {
      "text/plain": [
       "[('VNG Corp', '')]"
      ]
     },
     "execution_count": 14,
     "metadata": {},
     "output_type": "execute_result"
    }
   ],
   "source": [
    "matches = re.findall(company_name , recruitment1)\n",
    "matches"
   ]
  },
  {
   "cell_type": "code",
   "execution_count": 22,
   "id": "013a1f5b",
   "metadata": {},
   "outputs": [],
   "source": [
    "salary =  r'Mức lương:\\s*(.*)'"
   ]
  },
  {
   "cell_type": "code",
   "execution_count": 23,
   "id": "e40826b4",
   "metadata": {},
   "outputs": [
    {
     "data": {
      "text/plain": [
       "['14 Triệu - 16 Triệu/tháng']"
      ]
     },
     "execution_count": 23,
     "metadata": {},
     "output_type": "execute_result"
    }
   ],
   "source": [
    "matches = re.findall(salary, recruitment1)\n",
    "matches"
   ]
  },
  {
   "cell_type": "code",
   "execution_count": null,
   "id": "8f3a8a83",
   "metadata": {},
   "outputs": [],
   "source": [
    "position = 'F'"
   ]
  }
 ],
 "metadata": {
  "kernelspec": {
   "display_name": "Python 3 (ipykernel)",
   "language": "python",
   "name": "python3"
  },
  "language_info": {
   "codemirror_mode": {
    "name": "ipython",
    "version": 3
   },
   "file_extension": ".py",
   "mimetype": "text/x-python",
   "name": "python",
   "nbconvert_exporter": "python",
   "pygments_lexer": "ipython3",
   "version": "3.10.11"
  }
 },
 "nbformat": 4,
 "nbformat_minor": 5
}
